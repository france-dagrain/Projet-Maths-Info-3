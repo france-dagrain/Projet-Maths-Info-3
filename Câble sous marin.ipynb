{
 "cells": [
  {
   "cell_type": "markdown",
   "metadata": {},
   "source": [
    "## Câble sous-marin\n"
   ]
  },
  {
   "cell_type": "markdown",
   "metadata": {},
   "source": [
    "# Questions théoriques\n"
   ]
  },
  {
   "cell_type": "raw",
   "metadata": {},
   "source": [
    "1. On peut estimer l'espérance conditionelle par la moyenne empirique de simulations conditionnelles grâce à la loi faible des grands nombres. En effet, elle établit qu'avec un trés grand nombre d'expérience, la moyenne des résultats se rapprochent de l'espérance de la variable aléatoire. "
   ]
  },
  {
   "cell_type": "markdown",
   "metadata": {},
   "source": [
    "# Application"
   ]
  },
  {
   "cell_type": "code",
   "execution_count": 1,
   "metadata": {},
   "outputs": [],
   "source": [
    "#Chargement des dépendances\n",
    "import numpy as np\n",
    "import math\n",
    "import matplotlib.pyplot as plt\n",
    "\n",
    "#Discrétisation\n",
    "A=0\n",
    "B=500\n",
    "N=101\n",
    "Delta=(B-A)/(N-1)\n",
    "discretization_indexes=np.arange(N)\n",
    "discretization= discretization_indexes*Delta\n",
    "\n",
    "#Paramètres du modèle\n",
    "mu=-5\n",
    "a=50\n",
    "sigma2=12\n",
    "\n",
    "#Données\n",
    "observation_indexes=[0,20,40,60,80,100]\n",
    "depth = np.array([0,-4,-12.8,-1,-6.5,0])\n",
    "\n",
    "#Indices des composantes correspondant aux observations et aux componsantes non observées\n",
    "\n",
    "unknown_indexes=list(set(discretization_indexes)-set(observation_indexes))\n",
    "\n",
    "\n"
   ]
  },
  {
   "cell_type": "raw",
   "metadata": {},
   "source": [
    "1. Ecrire une fonction de $a$ et de $sigma^2$ et de la distance entre deux points qui donne leur covariance. \n",
    "En reprenant la formule de $C$ de l'énoncé, on définit : \n"
   ]
  },
  {
   "cell_type": "code",
   "execution_count": 2,
   "metadata": {},
   "outputs": [],
   "source": [
    "def Cov(h, a, sigma2) :\n",
    "    return sigma2 * np.exp(-np.abs(h)/a)\n"
   ]
  },
  {
   "cell_type": "raw",
   "metadata": {},
   "source": [
    "2. Définition de la matrice de distance qui calcule la distance de chaque point par rapport à tous les autres. Elle est bien sure réelle, symétrique et positive. "
   ]
  },
  {
   "cell_type": "code",
   "execution_count": 3,
   "metadata": {},
   "outputs": [
    {
     "name": "stdout",
     "output_type": "stream",
     "text": [
      "[[  0.   5.  10. ... 490. 495. 500.]\n",
      " [  5.   0.   5. ... 485. 490. 495.]\n",
      " [ 10.   5.   0. ... 480. 485. 490.]\n",
      " ...\n",
      " [490. 485. 480. ...   0.   5.  10.]\n",
      " [495. 490. 485. ...   5.   0.   5.]\n",
      " [500. 495. 490. ...  10.   5.   0.]]\n"
     ]
    }
   ],
   "source": [
    "mat_dist= np.zeros((N, N))\n",
    "for i in range(N) : \n",
    "    for j in range(N) : \n",
    "        mat_dist[i][j] = np.abs(discretization[i]-discretization[j])\n",
    "print(mat_dist)\n",
    "        "
   ]
  },
  {
   "cell_type": "raw",
   "metadata": {},
   "source": [
    "3. Calcul de la matrice de covariance du vecteur $Z=(Z(x_0),...Z(x_N))$"
   ]
  },
  {
   "cell_type": "code",
   "execution_count": 4,
   "metadata": {},
   "outputs": [
    {
     "name": "stdout",
     "output_type": "stream",
     "text": [
      "[[1.20000000e+01 1.08580490e+01 9.82476904e+00 ... 6.65419193e-04\n",
      "  6.02096185e-04 5.44799157e-04]\n",
      " [1.08580490e+01 1.20000000e+01 1.08580490e+01 ... 7.35401941e-04\n",
      "  6.65419193e-04 6.02096185e-04]\n",
      " [9.82476904e+00 1.08580490e+01 1.20000000e+01 ... 8.12744838e-04\n",
      "  7.35401941e-04 6.65419193e-04]\n",
      " ...\n",
      " [6.65419193e-04 7.35401941e-04 8.12744838e-04 ... 1.20000000e+01\n",
      "  1.08580490e+01 9.82476904e+00]\n",
      " [6.02096185e-04 6.65419193e-04 7.35401941e-04 ... 1.08580490e+01\n",
      "  1.20000000e+01 1.08580490e+01]\n",
      " [5.44799157e-04 6.02096185e-04 6.65419193e-04 ... 9.82476904e+00\n",
      "  1.08580490e+01 1.20000000e+01]] (101, 101)\n"
     ]
    }
   ],
   "source": [
    "covar_Z = Cov(mat_dist, a, sigma2)\n",
    "print(covar_Z, np.shape(covar_Z))"
   ]
  },
  {
   "cell_type": "raw",
   "metadata": {},
   "source": [
    "4. 3 matrices de covariance"
   ]
  },
  {
   "cell_type": "code",
   "execution_count": 9,
   "metadata": {},
   "outputs": [],
   "source": [
    "#Initialisation\n",
    "\n",
    "l=len(observation_indexes)\n",
    "covar_obs=np.zeros((l,l))\n",
    "covar_obs_inconnu=np.zeros((N-l,l))\n",
    "covar_inconnu=np.zeros((N-l,N-l))\n",
    "\n",
    "#Calcul\n",
    "\n",
    "for i in range(l):\n",
    "    for j in range(l):\n",
    "        covar_obs[i][j]=covar_Z[observation_indexes[i]][observation_indexes[j]]\n",
    "\n",
    "for i in range(N-l):\n",
    "    for j in range(l):\n",
    "        covar_obs_inconnu[i][j]=covar_Z[unknown_indexes[i]][observation_indexes[j]]\n",
    "        \n",
    "for i in range(N-l):\n",
    "    for j in range(N-l):\n",
    "        covar_inconnu[i][j]=covar_Z[unknown_indexes[i]][unknown_indexes[j]]"
   ]
  },
  {
   "cell_type": "raw",
   "metadata": {},
   "source": [
    "5. Calcul de l'espérance conditionnelle des composantes non observées connaissant les observations. "
   ]
  },
  {
   "cell_type": "code",
   "execution_count": 10,
   "metadata": {},
   "outputs": [
    {
     "data": {
      "text/plain": [
       "<matplotlib.collections.PathCollection at 0x2b5c17295c8>"
      ]
     },
     "execution_count": 10,
     "metadata": {},
     "output_type": "execute_result"
    },
    {
     "data": {
      "image/png": "[encoded data removed]",
      "text/plain": [
       "<Figure size 432x288 with 1 Axes>"
      ]
     },
     "metadata": {
      "needs_background": "light"
     },
     "output_type": "display_data"
    }
   ],
   "source": [
    "# En utilisant la formule de la question 2 de la partie I\n",
    "# d'abord, il faut inverser la matrice cov_obs\n",
    "covar_obs_inv=np.linalg.inv(covar_obs)\n",
    "\n",
    "#on initialise nos deux vecteurs avec les valeurs de la moyenne\n",
    "a = np.full(N-l,mu)  \n",
    "b= np.full(l,mu)\n",
    "\n",
    "#avec la formule du cours\n",
    "\n",
    "esp_cond = a + np.dot(np.dot(covar_obs_inconnu,covar_obs_inv),(depth-b))\n",
    "\n",
    "# réprésentation\n",
    "\n",
    "plt.scatter(unknown_indexes, esp_cond)\n",
    "plt.scatter(observation_indexes, depth)"
   ]
  },
  {
   "cell_type": "raw",
   "metadata": {},
   "source": [
    "6. Calcul de la matrice de variance conditionnelle grâce à la formule du cours de proba VI. \n"
   ]
  },
  {
   "cell_type": "code",
   "execution_count": 12,
   "metadata": {},
   "outputs": [
    {
     "data": {
      "image/png": "[encoded data removed]",
      "text/plain": [
       "<Figure size 432x288 with 1 Axes>"
      ]
     },
     "metadata": {
      "needs_background": "light"
     },
     "output_type": "display_data"
    }
   ],
   "source": [
    "covar_conditionnelle = covar_inconnu-np.matmul(np.matmul(covar_obs_inconnu,covar_obs_inv),np.transpose(covar_obs_inconnu))\n",
    "Liste=[]\n",
    "for i in range(N-l):\n",
    "    Liste.append(covar_conditionnelle[i][i])\n",
    "plt.scatter(np.asarray(unknown_indexes)*5,Liste)\n",
    "plt.ylabel(\"Diagonale de la matrice de covariance conditionnelle\")\n",
    "plt.xlabel(\"position horizontale\")\n",
    "plt.show()\n"
   ]
  },
  {
   "cell_type": "raw",
   "metadata": {},
   "source": [
    "Cela montre bien que la profondeur est parfaitement connu au niveau des points où elle est mesurée (surprise) mais que au fur et à mesure, l'incertitude grandit jusqu'à se rapprocher d'un autre point connu. "
   ]
  },
  {
   "cell_type": "raw",
   "metadata": {},
   "source": [
    "7. Nous réalisons une simulation conditionnelle en utilisant la décomposition de Cholesky vu que l'on cherche à simuler une variable gaussienne."
   ]
  },
  {
   "cell_type": "code",
   "execution_count": null,
   "metadata": {},
   "outputs": [],
   "source": []
  },
  {
   "cell_type": "raw",
   "metadata": {},
   "source": [
    "8. Fonction qui calcule la longueur du câble "
   ]
  },
  {
   "cell_type": "code",
   "execution_count": null,
   "metadata": {},
   "outputs": [],
   "source": [
    "def long (pas_dis, vect_depth) :\n",
    "    L=0\n",
    "    for i in range(len(vect_prof)-1) : \n",
    "        L= L+ np.sqrt(pas_dis**2 + (vect_depth[i+1]-vect_depth[i])**2)\n",
    "    return L\n",
    "        "
   ]
  },
  {
   "cell_type": "raw",
   "metadata": {},
   "source": [
    "9. Longueur du cabe à partir de 100 simulations."
   ]
  },
  {
   "cell_type": "code",
   "execution_count": null,
   "metadata": {},
   "outputs": [],
   "source": [
    "#Il faut dans un premier temps réaliser 100 simulations à l'aide de la méthode de Box-Muller : une simulattion uniforme nous donnera ainsi une gaussienne. \n",
    "def Simulation(n) : \n",
    "    U=[random.rand(0,1) for i in range(n)]\n",
    "    V=[random.rand(0,1) for i in range(n)]\n",
    "    for i in range(n) : \n",
    "    \n"
   ]
  }
 ],
 "metadata": {
  "kernelspec": {
   "display_name": "Python 3.7.4 64-bit ('Lenovo': virtualenv)",
   "language": "python",
   "name": "python37464bitlenovovirtualenvb35fe3b8395f4913b650b2a21c2a8d55"
  },
  "language_info": {
   "codemirror_mode": {
    "name": "ipython",
    "version": 3
   },
   "file_extension": ".py",
   "mimetype": "text/x-python",
   "name": "python",
   "nbconvert_exporter": "python",
   "pygments_lexer": "ipython3",
   "version": "3.7.4"
  }
 },
 "nbformat": 4,
 "nbformat_minor": 2
}

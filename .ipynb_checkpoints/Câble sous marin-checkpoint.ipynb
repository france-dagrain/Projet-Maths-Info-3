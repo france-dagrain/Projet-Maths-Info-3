{
 "cells": [
  {
   "cell_type": "markdown",
   "metadata": {},
   "source": [
    "## Câble sous-marin\n"
   ]
  },
  {
   "cell_type": "markdown",
   "metadata": {},
   "source": [
    "# Questions théoriques\n"
   ]
  },
  {
   "cell_type": "raw",
   "metadata": {},
   "source": [
    "1. On peut estimer l'espérance conditionelle par la moyenne empirique de simulations conditionnelles grâce à la loi faible des grands nombres. En effet, elle établit qu'avec un trés grand nombre d'expérience, la moyenne des résultats se rapprochent de l'espérance de la variable aléatoire. "
   ]
  },
  {
   "cell_type": "markdown",
   "metadata": {},
   "source": [
    "# Application"
   ]
  },
  {
   "cell_type": "code",
   "execution_count": 1,
   "metadata": {},
   "outputs": [
    {
     "name": "stdout",
     "output_type": "stream",
     "text": [
      "[  0   1   2   3   4   5   6   7   8   9  10  11  12  13  14  15  16  17\n",
      "  18  19  20  21  22  23  24  25  26  27  28  29  30  31  32  33  34  35\n",
      "  36  37  38  39  40  41  42  43  44  45  46  47  48  49  50  51  52  53\n",
      "  54  55  56  57  58  59  60  61  62  63  64  65  66  67  68  69  70  71\n",
      "  72  73  74  75  76  77  78  79  80  81  82  83  84  85  86  87  88  89\n",
      "  90  91  92  93  94  95  96  97  98  99 100]\n"
     ]
    }
   ],
   "source": [
    "#Chargement des dépendances\n",
    "import numpy as np\n",
    "import math\n",
    "import matplotlib.pyplot as plt\n",
    "\n",
    "#Discrétisation\n",
    "A=0\n",
    "B=500\n",
    "N=101\n",
    "Delta=(B-A)/(N-1)\n",
    "discretization_indexes=np.arange(N)\n",
    "discretization= discretization_indexes*Delta\n",
    "\n",
    "#Paramètres du modèle\n",
    "mu=-5\n",
    "a=50\n",
    "sigma2=12\n",
    "\n",
    "#Données\n",
    "observation_indexes=[0,20,40,60,80,100]\n",
    "depth = np.array([0,-4,-12.8,-1,-6.5,0])\n",
    "\n",
    "#Indices des composantes correspondant aux observations et aux componsantes non observées\n",
    "\n",
    "unknown_indexes=list(set(discretization_indexes)-set(observation_indexes))\n",
    "\n",
    "\n"
   ]
  },
  {
   "cell_type": "raw",
   "metadata": {},
   "source": [
    "1. Ecrire une fonction de $a$ et de $sigma^2$ et de la distance entre deux points qui donne leur covariance. \n",
    "En reprenant la formule de $C$ de l'énoncé, on définit : \n"
   ]
  },
  {
   "cell_type": "code",
   "execution_count": 3,
   "metadata": {},
   "outputs": [],
   "source": [
    "def Cov(h, a, sigma2) :\n",
    "    return sigma2 * np.exp(-np.abs(h)/a)\n"
   ]
  },
  {
   "cell_type": "raw",
   "metadata": {},
   "source": [
    "2. Définition de la matrice de distance qui calcule la distance de chaque point par rapport à tous les autres. Elle est bien sure réelle, symétrique et positive. "
   ]
  },
  {
   "cell_type": "code",
   "execution_count": null,
   "metadata": {},
   "outputs": [],
   "source": [
    "mat_dist= np.zeros((N, N))\n",
    "for i in range(N) : \n",
    "    for j in range(N) : \n",
    "        mat_dist[i][j] = np.abs(discretization[i]-discretization[j])\n",
    "print(mat_dist)\n",
    "        "
   ]
  },
  {
   "cell_type": "raw",
   "metadata": {},
   "source": [
    "3. Calcul de la matrice de covariance du vecteur $Z=(Z(x_0),...Z(x_N))$"
   ]
  },
  {
   "cell_type": "code",
   "execution_count": 9,
   "metadata": {},
   "outputs": [
    {
     "name": "stdout",
     "output_type": "stream",
     "text": [
      "[[1.20000000e+01 1.08580490e+01 9.82476904e+00 ... 6.65419193e-04\n",
      "  6.02096185e-04 5.44799157e-04]\n",
      " [1.08580490e+01 1.20000000e+01 1.08580490e+01 ... 7.35401941e-04\n",
      "  6.65419193e-04 6.02096185e-04]\n",
      " [9.82476904e+00 1.08580490e+01 1.20000000e+01 ... 8.12744838e-04\n",
      "  7.35401941e-04 6.65419193e-04]\n",
      " ...\n",
      " [6.65419193e-04 7.35401941e-04 8.12744838e-04 ... 1.20000000e+01\n",
      "  1.08580490e+01 9.82476904e+00]\n",
      " [6.02096185e-04 6.65419193e-04 7.35401941e-04 ... 1.08580490e+01\n",
      "  1.20000000e+01 1.08580490e+01]\n",
      " [5.44799157e-04 6.02096185e-04 6.65419193e-04 ... 9.82476904e+00\n",
      "  1.08580490e+01 1.20000000e+01]] (101, 101)\n"
     ]
    }
   ],
   "source": [
    "covar_Z = Cov(mat_dist, a, sigma2)\n",
    "print(covar_Z, np.shape(covar_Z))"
   ]
  },
  {
   "cell_type": "raw",
   "metadata": {},
   "source": [
    "4. 3 matrices de covariance"
   ]
  },
  {
   "cell_type": "code",
   "execution_count": null,
   "metadata": {},
   "outputs": [],
   "source": [
    "#Initialisation\n",
    "\n",
    "m=len(observation_indexes)\n",
    "cov_obs=np.zeroes((k,k))\n",
    "cov_obs_inconnu=np.zeroes((N-k,k))\n",
    "cov_inconnu=np.zeroes((N-k,N-k))\n",
    "\n",
    "#Calcul\n",
    "\n",
    "for i in range(k):\n",
    "    for j in range(k):\n",
    "        cov_obs[i][j]=cov_Z[observation_indexes[i]][observation_indexes[j]]\n",
    "\n",
    "for i in range(N-k):\n",
    "    for j in range(k):\n",
    "        cov_obs_inconnu[i][j]=cov_Z[unknown_indexes[i]][observation_indexes[j]]\n",
    "        \n",
    "for i in range(N-k):\n",
    "    for j in range(N-k):\n",
    "        cov_inconnu[i][j]=cov_Z[unknown_indexes[i]][unknown_indexes[j]]"
   ]
  },
  {
   "cell_type": "raw",
   "metadata": {},
   "source": [
    "5. Calcul de l'espérance conditionnelle des composantes non observées connaissant les observations. "
   ]
  },
  {
   "cell_type": "code",
   "execution_count": null,
   "metadata": {},
   "outputs": [],
   "source": [
    "# En utilisant la formule de la question 2 de la partie I\n",
    "# d'abord, il faut inverser la matrice cov_obs\n",
    "cov_obs_inv=np.linalg.inv(cov_obs)\n",
    "\n",
    "#on initialise nos deux vecteurs avec les valeurs de la moyenne\n",
    "a = np.full(N-k,mu)  \n",
    "b= np.full(k,mu)\n",
    "\n",
    "#avec la formule du cours\n",
    "\n",
    "esp_cond = a + np.dot(np.dot(cov_obs_inconnu,cov_obs_inv),(depth-b))\n",
    "\n",
    "# réprésentation\n",
    "\n",
    "plt.scatter(unknown_indexes, esp_cond)\n",
    "plt.scatter(observation_indexes, depth)"
   ]
  },
  {
   "cell_type": "raw",
   "metadata": {},
   "source": [
    "6. Calcul de la matrice de variance conditionnelle. \n"
   ]
  },
  {
   "cell_type": "code",
   "execution_count": null,
   "metadata": {},
   "outputs": [],
   "source": []
  },
  {
   "cell_type": "raw",
   "metadata": {},
   "source": [
    "7. Nous réalisons une simulation conditionnelle à l'air de la méthode de Box-Muller vu que l'on cherche à simuler une variable gaussienne."
   ]
  }
 ],
 "metadata": {
  "kernelspec": {
   "display_name": "Python 3.7.4 64-bit ('Lenovo': virtualenv)",
   "language": "python",
   "name": "python37464bitlenovovirtualenvb35fe3b8395f4913b650b2a21c2a8d55"
  },
  "language_info": {
   "codemirror_mode": {
    "name": "ipython",
    "version": 3
   },
   "file_extension": ".py",
   "mimetype": "text/x-python",
   "name": "python",
   "nbconvert_exporter": "python",
   "pygments_lexer": "ipython3",
   "version": "3.7.4"
  }
 },
 "nbformat": 4,
 "nbformat_minor": 2
}

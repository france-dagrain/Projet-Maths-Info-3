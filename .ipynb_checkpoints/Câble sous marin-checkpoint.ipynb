{
 "cells": [
  {
   "cell_type": "markdown",
   "metadata": {},
   "source": [
    "# Projet numérique : câble sous-marin\n",
    "\n",
    "## Questions théoriques \n",
    "\n",
    "1. La loi forte des grands nombres, applicable si on considère que les variables conditionnelles simulées suivent une même loi, sont indépendantes et intégrables, nous permet d'estimer l'espérance conditionnelle par la moyenne empirique de simulations conditionnelles. \n",
    "\n",
    "2. La loi conditionnelle suivie par le vecteur des composantes de Z non observées connaissant les valeurs d'observations est une loi gaussienne. En effet, si on se ramène au cours de Probabilité IV, sur la partie des vecteurs gaussiens à densité, en réordonnant l'ordre des valeurs connues on peut se ramener à la démonstration de la loi page 12. \n",
    "\n",
    "3. Soient R une matrice $ p\\times p $ et $m$ un vecteur de taile p. Si Y = (Y1, Y2, ..., Yp) a des composantes gaussiennes indépendantes suivant la loi normale centrée réduite, alors nous avons vu lors de ce dernier chapitre que $Z = m + RY$ suit une loi gaussienne d'espérance $m$ et de matrice de covariance $ C = R^2 $.\n",
    "\n",
    "4. Ainsi, pour effectuer la simulation conditionnelle on peut proposer l'algorithme suivant : \n",
    "\n",
    "(1) On simule des variables gaussiennes centrées réduites grâce à la simulation de 2 variables uniformes comme présenté en page 11 du chapitre. On obtient le vecteur gaussien Y de la question 3.\n",
    "\n",
    "(2) On prend la combinaison linéaire de ces variables de la forme : \n",
    "$$Z = m+RY$$ \n",
    "$$avec$$ $$  m = (\\mu , \\mu, ..., \\mu) $$ $$et$$  $$R = \\Sigma^{1/2}$$\n",
    "Ce qui est possible car $\\Sigma$ est définie positive\n",
    "\n",
    "(3) On vérifie que les profondeurs censées être connues correspondent : si c'est le cas on garde le vecteur simulé, sinon on le rejette. \n"
   ]
  },
  {
   "cell_type": "markdown",
   "metadata": {},
   "source": [
    "## Implémentation"
   ]
  },
  {
   "cell_type": "code",
   "execution_count": 4,
   "metadata": {},
   "outputs": [],
   "source": [
    "#Chargement des dépendances\n",
    "import numpy as np\n",
    "import math\n",
    "import matplotlib.pyplot as plt\n",
    "\n",
    "#Discrétisation\n",
    "A=0\n",
    "B=500\n",
    "N=101\n",
    "Delta=(B-A)/(N-1)\n",
    "discretization_indexes=np.arange(N)\n",
    "discretization= discretization_indexes*Delta\n",
    "\n",
    "#Paramètres du modèle\n",
    "mu=-5\n",
    "a=50\n",
    "sigma2=12\n",
    "\n",
    "#Données\n",
    "observation_indexes=[0,20,40,60,80,100]\n",
    "depth = np.array([0,-4,-12.8,-1,-6.5,0])\n",
    "\n",
    "#Indices des composantes correspondant aux observations et aux componsantes non observées\n",
    "\n",
    "unknown_indexes=list(set(discretization_indexes)-set(observation_indexes))\n",
    "\n",
    "\n"
   ]
  },
  {
   "cell_type": "markdown",
   "metadata": {},
   "source": [
    "1. Ecrire une fonction de $a$ et de $sigma^2$ et de la distance entre deux points qui donne leur covariance. \n",
    "\n",
    "En reprenant la formule de $C$ de l'énoncé, on définit : \n"
   ]
  },
  {
   "cell_type": "code",
   "execution_count": 5,
   "metadata": {},
   "outputs": [],
   "source": [
    "def Cov(h, a, sigma2) :\n",
    "    return sigma2 * np.exp(-np.abs(h)/a)\n"
   ]
  },
  {
   "cell_type": "markdown",
   "metadata": {},
   "source": [
    "2. Définition de la matrice de distance qui calcule la distance de chaque point par rapport à tous les autres. Elle est bien sure réelle, symétrique et positive. "
   ]
  },
  {
   "cell_type": "code",
   "execution_count": 6,
   "metadata": {},
   "outputs": [
    {
     "name": "stdout",
     "output_type": "stream",
     "text": [
      "[[  0.   5.  10. ... 490. 495. 500.]\n",
      " [  5.   0.   5. ... 485. 490. 495.]\n",
      " [ 10.   5.   0. ... 480. 485. 490.]\n",
      " ...\n",
      " [490. 485. 480. ...   0.   5.  10.]\n",
      " [495. 490. 485. ...   5.   0.   5.]\n",
      " [500. 495. 490. ...  10.   5.   0.]]\n"
     ]
    }
   ],
   "source": [
    "mat_dist= np.zeros((N, N))\n",
    "for i in range(N) : \n",
    "    for j in range(N) : \n",
    "        mat_dist[i][j] = np.abs(discretization[i]-discretization[j])\n",
    "print(mat_dist)\n",
    "        "
   ]
  },
  {
   "cell_type": "markdown",
   "metadata": {},
   "source": [
    "3. Calcul de la matrice de covariance du vecteur $Z=(Z(x_0),...Z(x_N))$"
   ]
  },
  {
   "cell_type": "code",
   "execution_count": 7,
   "metadata": {},
   "outputs": [
    {
     "name": "stdout",
     "output_type": "stream",
     "text": [
      "[[1.20000000e+01 1.08580490e+01 9.82476904e+00 ... 6.65419193e-04\n",
      "  6.02096185e-04 5.44799157e-04]\n",
      " [1.08580490e+01 1.20000000e+01 1.08580490e+01 ... 7.35401941e-04\n",
      "  6.65419193e-04 6.02096185e-04]\n",
      " [9.82476904e+00 1.08580490e+01 1.20000000e+01 ... 8.12744838e-04\n",
      "  7.35401941e-04 6.65419193e-04]\n",
      " ...\n",
      " [6.65419193e-04 7.35401941e-04 8.12744838e-04 ... 1.20000000e+01\n",
      "  1.08580490e+01 9.82476904e+00]\n",
      " [6.02096185e-04 6.65419193e-04 7.35401941e-04 ... 1.08580490e+01\n",
      "  1.20000000e+01 1.08580490e+01]\n",
      " [5.44799157e-04 6.02096185e-04 6.65419193e-04 ... 9.82476904e+00\n",
      "  1.08580490e+01 1.20000000e+01]] (101, 101)\n"
     ]
    }
   ],
   "source": [
    "covar_Z = Cov(mat_dist, a, sigma2)\n",
    "print(covar_Z, np.shape(covar_Z))"
   ]
  },
  {
   "cell_type": "markdown",
   "metadata": {},
   "source": [
    "4. 3 matrices de covariance"
   ]
  },
  {
   "cell_type": "code",
   "execution_count": 8,
   "metadata": {},
   "outputs": [],
   "source": [
    "#Initialisation\n",
    "\n",
    "l=len(observation_indexes)\n",
    "covar_obs=np.zeros((l,l))\n",
    "covar_obs_inconnu=np.zeros((N-l,l))\n",
    "covar_inconnu=np.zeros((N-l,N-l))\n",
    "\n",
    "#Calcul\n",
    "\n",
    "for i in range(l):\n",
    "    for j in range(l):\n",
    "        covar_obs[i][j]=covar_Z[observation_indexes[i]][observation_indexes[j]]\n",
    "\n",
    "for i in range(N-l):\n",
    "    for j in range(l):\n",
    "        covar_obs_inconnu[i][j]=covar_Z[unknown_indexes[i]][observation_indexes[j]]\n",
    "        \n",
    "for i in range(N-l):\n",
    "    for j in range(N-l):\n",
    "        covar_inconnu[i][j]=covar_Z[unknown_indexes[i]][unknown_indexes[j]]"
   ]
  },
  {
   "cell_type": "markdown",
   "metadata": {},
   "source": [
    "5. Calcul de l'espérance conditionnelle des composantes non observées connaissant les observations. "
   ]
  },
  {
   "cell_type": "code",
   "execution_count": 9,
   "metadata": {},
   "outputs": [
    {
     "data": {
      "text/plain": [
       "<matplotlib.collections.PathCollection at 0x17232e4c3c8>"
      ]
     },
     "execution_count": 9,
     "metadata": {},
     "output_type": "execute_result"
    },
    {
     "data": {
      "image/png": "[encoded data removed]",
      "text/plain": [
       "<Figure size 432x288 with 1 Axes>"
      ]
     },
     "metadata": {
      "needs_background": "light"
     },
     "output_type": "display_data"
    }
   ],
   "source": [
    "# En utilisant la formule de la question 2 de la partie I\n",
    "# d'abord, il faut inverser la matrice cov_obs\n",
    "covar_obs_inv=np.linalg.inv(covar_obs)\n",
    "\n",
    "#on initialise nos deux vecteurs avec les valeurs de la moyenne\n",
    "a = np.full(N-l,mu)  \n",
    "b= np.full(l,mu)\n",
    "\n",
    "#avec la formule du cours\n",
    "\n",
    "esp_cond = a + np.dot(np.dot(covar_obs_inconnu,covar_obs_inv),(depth-b))\n",
    "\n",
    "# réprésentation\n",
    "\n",
    "plt.scatter(unknown_indexes, esp_cond)\n",
    "plt.scatter(observation_indexes, depth)"
   ]
  },
  {
   "cell_type": "markdown",
   "metadata": {},
   "source": [
    "6. Calcul de la matrice de variance conditionnelle grâce à la formule du cours de proba V. \n"
   ]
  },
  {
   "cell_type": "code",
   "execution_count": 11,
   "metadata": {},
   "outputs": [
    {
     "data": {
      "image/png": "[encoded data removed]",
      "text/plain": [
       "<Figure size 432x288 with 1 Axes>"
      ]
     },
     "metadata": {
      "needs_background": "light"
     },
     "output_type": "display_data"
    }
   ],
   "source": [
    "covar_conditionnelle = covar_inconnu-np.matmul(np.matmul(covar_obs_inconnu,covar_obs_inv),np.transpose(covar_obs_inconnu))\n",
    "Liste=[]\n",
    "for i in range(N-l):\n",
    "    Liste.append(covar_conditionnelle[i][i])\n",
    "plt.scatter(np.asarray(unknown_indexes),Liste)\n",
    "plt.ylabel(\"Diagonale de la matrice de covariance conditionnelle\")\n",
    "plt.xlabel(\"position horizontale\")\n",
    "plt.show()\n",
    "\n"
   ]
  },
  {
   "cell_type": "raw",
   "metadata": {},
   "source": [
    "Cela montre bien que la profondeur est parfaitement connue au niveau des points où elle est mesurée (surprise) mais que au fur et à mesure, l'incertitude grandit jusqu'à ce que l'on se rapproche d'un autre point connu. "
   ]
  },
  {
   "cell_type": "markdown",
   "metadata": {},
   "source": [
    "7. Nous réalisons une simulation conditionnelle en utilisant la décomposition de Cholesky vu que l'on cherche à simuler une variable gaussienne."
   ]
  },
  {
   "cell_type": "code",
   "execution_count": 16,
   "metadata": {},
   "outputs": [
    {
     "data": {
      "text/plain": [
       "[<matplotlib.lines.Line2D at 0x17235300ec8>]"
      ]
     },
     "execution_count": 16,
     "metadata": {},
     "output_type": "execute_result"
    },
    {
     "data": {
      "image/png": "[encoded data removed]",
      "text/plain": [
       "<Figure size 432x288 with 1 Axes>"
      ]
     },
     "metadata": {
      "needs_background": "light"
     },
     "output_type": "display_data"
    }
   ],
   "source": [
    "#On simule un vecteur gaussien de bonne dimension. \n",
    "Z=np.random.normal(0,1,95) \n",
    "#A l'aide de la question 3, on simule conditionnellement le vecteur des profondeurs inconnues\n",
    "depth_unknown = esp_cond + np.dot(np.linalg.cholesky(covar_conditionnelle), Z) \n",
    "\n",
    "#on va créer un vecteur des profondeurs dans lequel on insère nos valeurs connues\n",
    "depth_entier = list(depth_unknown)\n",
    "for i in observation_indexes :\n",
    "    depth_entier = depth_entier[:i] + [depth[i//20]] + depth_entier[i:]\n",
    "\n",
    "D = np.array(depth_entier) \n",
    "\n",
    "plt.plot(np.linspace(0,100,101), D, color = 'blue')\n",
    "plt.plot(unknown_indexes, esp_cond, color = 'red') "
   ]
  },
  {
   "cell_type": "code",
   "execution_count": null,
   "metadata": {},
   "outputs": [],
   "source": []
  },
  {
   "cell_type": "markdown",
   "metadata": {},
   "source": [
    "8. Fonction qui calcule la longueur du câble "
   ]
  },
  {
   "cell_type": "code",
   "execution_count": 8,
   "metadata": {},
   "outputs": [],
   "source": [
    "def long(pas_dis, vect_depth) :\n",
    "    L=0\n",
    "    for i in range(len(vect_prof)-1) : \n",
    "        L= L+ np.sqrt(pas_dis**2 + (vect_depth[i+1]-vect_depth[i])**2)\n",
    "    return L\n",
    "        "
   ]
  },
  {
   "cell_type": "raw",
   "metadata": {},
   "source": [
    "9. Longueur du câble à partir de 100 simulations."
   ]
  },
  {
   "cell_type": "code",
   "execution_count": null,
   "metadata": {},
   "outputs": [],
   "source": [
    "# avec la méthode de Box-Muller dans le cas d'un nombre non fixe de simulation\n",
    "import random as rd\n",
    "\n",
    "#H=np.around(covar_conditionnelle,6)\n",
    "\n",
    "L=np.linalg.cholesky(covar_conditionnelle)\n",
    "\n",
    "k=len(observation_indexes)\n",
    "def sim(nbre):\n",
    "    simulation=[]\n",
    "    for i in range(nbre):\n",
    "        U=[]\n",
    "        V=[]\n",
    "        for u in range(N-k):\n",
    "            U.append(np.sqrt(-2*np.log(rd.random()))*np.cos(2*np.pi*rd.random()))\n",
    "        V=esp_cond+np.dot(L,U)\n",
    "        simulation.append(V)\n",
    "    return simulation\n",
    "\n",
    "#Dans le cas précis, nbre=100\n",
    "simulation_100=sim(100)\n",
    "\n"
   ]
  },
  {
   "cell_type": "code",
   "execution_count": null,
   "metadata": {},
   "outputs": [],
   "source": [
    "#Il nous faut une fonction qui prenne en compte toutes nos données sur la profondeur. \n",
    "def depth_entier(données):\n",
    "    l=[]\n",
    "    for i in données:\n",
    "        l.append(i)\n",
    "    for i in range(len(observation_indexes)):\n",
    "        l.insert(observation_indexes[i],depth[i])\n",
    "    return l"
   ]
  },
  {
   "cell_type": "code",
   "execution_count": null,
   "metadata": {},
   "outputs": [],
   "source": [
    "# en ce qui concerne les comparaisons \n",
    "#l’espérance conditionnelle (estimée) de la longueur\n",
    "esp_cond_long=0\n",
    "for i in simulation_100:\n",
    "    esp_cond_long= esp_cond_long + longueur(5,depth_entier(i))#on complete avec toutes les profondeurs et on calcule la longueur\n",
    "esp_cond_long=esp_cond_long/100\n",
    "#la longueur de l’espérance conditionnelle\n",
    "long(5,depth_entier(esp_cond),5)\n"
   ]
  },
  {
   "cell_type": "raw",
   "metadata": {},
   "source": [
    "10. Suite $M_n$ des moyennes des longueurs de câble en fonction du nombre de simulation (nbre) "
   ]
  },
  {
   "cell_type": "code",
   "execution_count": null,
   "metadata": {},
   "outputs": [],
   "source": [
    "def Suite(long,nbre) :\n",
    "    M_n=[]\n",
    "    for i in range(nbre+1) : \n",
    "        M_n = [np.average(Long[:i]) for i in range(1, nbre+1)]\n",
    "    \n",
    "ax.set_xlabel(\"Nombre de simulations\")\n",
    "ax.set_ylabel(\"Longueur moyenne\")\n",
    "ax.plot(Valeur_n, M_n)"
   ]
  },
  {
   "cell_type": "raw",
   "metadata": {},
   "source": [
    "11. Représenter l'histogramme pour les 100 simulations"
   ]
  },
  {
   "cell_type": "code",
   "execution_count": null,
   "metadata": {},
   "outputs": [],
   "source": [
    "SOMME = []\n",
    "for i in Simulation_de_100:\n",
    "    SOMME.append(5,long(complete_profondeur(i))\n",
    "        \n",
    "plt.hist(Tot_cordes, range = (510, 540), bins = 8, color = 'red')\n",
    "plt.xlabel('longueur de câble')\n",
    "plt.ylabel('nombres de câble')\n",
    "plt.title('Histogramme des longueurs')\n",
    "plt.show()"
   ]
  },
  {
   "cell_type": "code",
   "execution_count": null,
   "metadata": {},
   "outputs": [],
   "source": [
    "def lissage(L, pas):\n",
    "    L.sort()\n",
    "        \n",
    "Liste_longueur_lissee = lissage(L, 0.2)\n",
    "\n",
    "plt.figure()\n",
    "plt.hist(Liste_longueur_lissee)\n",
    "plt.title(\"Longueurs de câbles générées\")\n",
    "plt.show()"
   ]
  }
 ],
 "metadata": {
  "kernelspec": {
   "display_name": "Python 3",
   "language": "python",
   "name": "python3"
  },
  "language_info": {
   "codemirror_mode": {
    "name": "ipython",
    "version": 3
   },
   "file_extension": ".py",
   "mimetype": "text/x-python",
   "name": "python",
   "nbconvert_exporter": "python",
   "pygments_lexer": "ipython3",
   "version": "3.7.4"
  }
 },
 "nbformat": 4,
 "nbformat_minor": 2
}
